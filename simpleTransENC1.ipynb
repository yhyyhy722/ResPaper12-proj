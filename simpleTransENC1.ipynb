{
 "cells": [
  {
   "cell_type": "code",
   "execution_count": 1,
   "id": "9f46aa99",
   "metadata": {},
   "outputs": [],
   "source": [
    "import math\n",
    "import torch\n",
    "import numpy as np\n",
    "import pandas as pd\n",
    "import torch.nn as nn\n",
    "import torch.optim as optim\n",
    "from torch.utils.data import Dataset, DataLoader\n",
    "import matplotlib.pyplot as plt\n",
    "from sklearn.model_selection import train_test_split"
   ]
  },
  {
   "cell_type": "code",
   "execution_count": 2,
   "id": "561e98c9",
   "metadata": {},
   "outputs": [],
   "source": [
    "import os\n",
    "os.environ['KMP_DUPLICATE_LIB_OK']='True'"
   ]
  },
  {
   "cell_type": "code",
   "execution_count": 3,
   "id": "840b25a9",
   "metadata": {},
   "outputs": [
    {
     "name": "stdout",
     "output_type": "stream",
     "text": [
      "cuda\n"
     ]
    }
   ],
   "source": [
    "device = torch.device('cuda' if torch.cuda.is_available() else 'cpu')\n",
    "print(device)"
   ]
  },
  {
   "cell_type": "code",
   "execution_count": null,
   "id": "cd981503-62e2-4663-9893-38c9eec9bf99",
   "metadata": {},
   "outputs": [],
   "source": []
  },
  {
   "cell_type": "code",
   "execution_count": 4,
   "id": "787a0740",
   "metadata": {},
   "outputs": [
    {
     "name": "stdout",
     "output_type": "stream",
     "text": [
      "float64\n",
      "0\n"
     ]
    },
    {
     "data": {
      "text/html": [
       "<div>\n",
       "<style scoped>\n",
       "    .dataframe tbody tr th:only-of-type {\n",
       "        vertical-align: middle;\n",
       "    }\n",
       "\n",
       "    .dataframe tbody tr th {\n",
       "        vertical-align: top;\n",
       "    }\n",
       "\n",
       "    .dataframe thead th {\n",
       "        text-align: right;\n",
       "    }\n",
       "</style>\n",
       "<table border=\"1\" class=\"dataframe\">\n",
       "  <thead>\n",
       "    <tr style=\"text-align: right;\">\n",
       "      <th></th>\n",
       "      <th>date</th>\n",
       "      <th>0</th>\n",
       "      <th>1</th>\n",
       "      <th>2</th>\n",
       "      <th>3</th>\n",
       "      <th>4</th>\n",
       "      <th>5</th>\n",
       "      <th>6</th>\n",
       "      <th>OT</th>\n",
       "    </tr>\n",
       "  </thead>\n",
       "  <tbody>\n",
       "    <tr>\n",
       "      <th>0</th>\n",
       "      <td>1990/1/1 0:00</td>\n",
       "      <td>0.785500</td>\n",
       "      <td>1.611000</td>\n",
       "      <td>0.861698</td>\n",
       "      <td>0.634196</td>\n",
       "      <td>0.211242</td>\n",
       "      <td>0.006838</td>\n",
       "      <td>0.525486</td>\n",
       "      <td>0.593000</td>\n",
       "    </tr>\n",
       "    <tr>\n",
       "      <th>1</th>\n",
       "      <td>1990/1/2 0:00</td>\n",
       "      <td>0.781800</td>\n",
       "      <td>1.610000</td>\n",
       "      <td>0.861104</td>\n",
       "      <td>0.633513</td>\n",
       "      <td>0.211242</td>\n",
       "      <td>0.006863</td>\n",
       "      <td>0.523972</td>\n",
       "      <td>0.594000</td>\n",
       "    </tr>\n",
       "    <tr>\n",
       "      <th>2</th>\n",
       "      <td>1990/1/3 0:00</td>\n",
       "      <td>0.786700</td>\n",
       "      <td>1.629300</td>\n",
       "      <td>0.861030</td>\n",
       "      <td>0.648508</td>\n",
       "      <td>0.211242</td>\n",
       "      <td>0.006975</td>\n",
       "      <td>0.526316</td>\n",
       "      <td>0.597300</td>\n",
       "    </tr>\n",
       "    <tr>\n",
       "      <th>3</th>\n",
       "      <td>1990/1/4 0:00</td>\n",
       "      <td>0.786000</td>\n",
       "      <td>1.637000</td>\n",
       "      <td>0.862069</td>\n",
       "      <td>0.650618</td>\n",
       "      <td>0.211242</td>\n",
       "      <td>0.006953</td>\n",
       "      <td>0.523834</td>\n",
       "      <td>0.597000</td>\n",
       "    </tr>\n",
       "    <tr>\n",
       "      <th>4</th>\n",
       "      <td>1990/1/5 0:00</td>\n",
       "      <td>0.784900</td>\n",
       "      <td>1.653000</td>\n",
       "      <td>0.861995</td>\n",
       "      <td>0.656254</td>\n",
       "      <td>0.211242</td>\n",
       "      <td>0.006940</td>\n",
       "      <td>0.527426</td>\n",
       "      <td>0.598500</td>\n",
       "    </tr>\n",
       "    <tr>\n",
       "      <th>...</th>\n",
       "      <td>...</td>\n",
       "      <td>...</td>\n",
       "      <td>...</td>\n",
       "      <td>...</td>\n",
       "      <td>...</td>\n",
       "      <td>...</td>\n",
       "      <td>...</td>\n",
       "      <td>...</td>\n",
       "      <td>...</td>\n",
       "    </tr>\n",
       "    <tr>\n",
       "      <th>7583</th>\n",
       "      <td>2010/10/6 0:00</td>\n",
       "      <td>0.718494</td>\n",
       "      <td>1.222195</td>\n",
       "      <td>0.737485</td>\n",
       "      <td>0.969974</td>\n",
       "      <td>0.143697</td>\n",
       "      <td>0.008500</td>\n",
       "      <td>0.688565</td>\n",
       "      <td>0.690846</td>\n",
       "    </tr>\n",
       "    <tr>\n",
       "      <th>7584</th>\n",
       "      <td>2010/10/7 0:00</td>\n",
       "      <td>0.721839</td>\n",
       "      <td>1.223459</td>\n",
       "      <td>0.741155</td>\n",
       "      <td>0.977297</td>\n",
       "      <td>0.143763</td>\n",
       "      <td>0.008595</td>\n",
       "      <td>0.690288</td>\n",
       "      <td>0.695701</td>\n",
       "    </tr>\n",
       "    <tr>\n",
       "      <th>7585</th>\n",
       "      <td>2010/10/8 0:00</td>\n",
       "      <td>0.723197</td>\n",
       "      <td>1.234111</td>\n",
       "      <td>0.745184</td>\n",
       "      <td>0.984446</td>\n",
       "      <td>0.143997</td>\n",
       "      <td>0.008562</td>\n",
       "      <td>0.691419</td>\n",
       "      <td>0.695943</td>\n",
       "    </tr>\n",
       "    <tr>\n",
       "      <th>7586</th>\n",
       "      <td>2010/10/9 0:00</td>\n",
       "      <td>0.720825</td>\n",
       "      <td>1.233905</td>\n",
       "      <td>0.744131</td>\n",
       "      <td>0.980344</td>\n",
       "      <td>0.143993</td>\n",
       "      <td>0.008555</td>\n",
       "      <td>0.690942</td>\n",
       "      <td>0.692689</td>\n",
       "    </tr>\n",
       "    <tr>\n",
       "      <th>7587</th>\n",
       "      <td>2010/10/10 0:00</td>\n",
       "      <td>0.720825</td>\n",
       "      <td>1.233905</td>\n",
       "      <td>0.744131</td>\n",
       "      <td>0.980344</td>\n",
       "      <td>0.143993</td>\n",
       "      <td>0.008555</td>\n",
       "      <td>0.690942</td>\n",
       "      <td>0.692689</td>\n",
       "    </tr>\n",
       "  </tbody>\n",
       "</table>\n",
       "<p>7588 rows × 9 columns</p>\n",
       "</div>"
      ],
      "text/plain": [
       "                 date         0         1         2         3         4  \\\n",
       "0       1990/1/1 0:00  0.785500  1.611000  0.861698  0.634196  0.211242   \n",
       "1       1990/1/2 0:00  0.781800  1.610000  0.861104  0.633513  0.211242   \n",
       "2       1990/1/3 0:00  0.786700  1.629300  0.861030  0.648508  0.211242   \n",
       "3       1990/1/4 0:00  0.786000  1.637000  0.862069  0.650618  0.211242   \n",
       "4       1990/1/5 0:00  0.784900  1.653000  0.861995  0.656254  0.211242   \n",
       "...               ...       ...       ...       ...       ...       ...   \n",
       "7583   2010/10/6 0:00  0.718494  1.222195  0.737485  0.969974  0.143697   \n",
       "7584   2010/10/7 0:00  0.721839  1.223459  0.741155  0.977297  0.143763   \n",
       "7585   2010/10/8 0:00  0.723197  1.234111  0.745184  0.984446  0.143997   \n",
       "7586   2010/10/9 0:00  0.720825  1.233905  0.744131  0.980344  0.143993   \n",
       "7587  2010/10/10 0:00  0.720825  1.233905  0.744131  0.980344  0.143993   \n",
       "\n",
       "             5         6        OT  \n",
       "0     0.006838  0.525486  0.593000  \n",
       "1     0.006863  0.523972  0.594000  \n",
       "2     0.006975  0.526316  0.597300  \n",
       "3     0.006953  0.523834  0.597000  \n",
       "4     0.006940  0.527426  0.598500  \n",
       "...        ...       ...       ...  \n",
       "7583  0.008500  0.688565  0.690846  \n",
       "7584  0.008595  0.690288  0.695701  \n",
       "7585  0.008562  0.691419  0.695943  \n",
       "7586  0.008555  0.690942  0.692689  \n",
       "7587  0.008555  0.690942  0.692689  \n",
       "\n",
       "[7588 rows x 9 columns]"
      ]
     },
     "execution_count": 4,
     "metadata": {},
     "output_type": "execute_result"
    }
   ],
   "source": [
    "#f_path = \"E:/12月论文项目/data/time-series-dataset/dataset/exchange_rate/exchange_rate.csv\"\n",
    "f_path = \"/root/iTransformer/dataset/exchange_rate/exchange_rate.csv\"\n",
    "df = pd.read_csv(f_path)\n",
    "\n",
    "df.iloc[:,1:]\n",
    "df['date']\n",
    "print(df.iloc[:2000, 1].dtype)  # 检查数据类型\n",
    "print(df.iloc[:2000, 1].isna().sum())  # 检查是否有缺失值\n",
    "df\n"
   ]
  },
  {
   "cell_type": "code",
   "execution_count": 5,
   "id": "946cfc13",
   "metadata": {},
   "outputs": [
    {
     "data": {
      "image/png": "[encoded data removed]",
      "text/plain": [
       "<Figure size 1600x600 with 1 Axes>"
      ]
     },
     "metadata": {},
     "output_type": "display_data"
    }
   ],
   "source": [
    "plt.figure(figsize=(16,6))\n",
    "for c in df.columns[1:]:\n",
    "    plt.plot(df['date'].iloc[:100], df[c].iloc[:100], label=c)\n",
    "    \n",
    "plt.title(\"Feature Curves\")\n",
    "plt.legend()\n",
    "plt.xlabel(\"date\")\n",
    "plt.ylabel(\"Value\")\n",
    "\n",
    "plt.show()"
   ]
  },
  {
   "cell_type": "code",
   "execution_count": 6,
   "id": "0182fc2e",
   "metadata": {},
   "outputs": [],
   "source": [
    "df = df.iloc[:,1:].values\n",
    "\n",
    "def make_data(dataframe, lookback, horizon):\n",
    "    X, y = [], []\n",
    "    for i in range(len(dataframe) - lookback - horizon +1):\n",
    "        X.append(dataframe[i:i+lookback, :])\n",
    "        y.append(dataframe[i+lookback:i+lookback+horizon, -1])\n",
    "    return X, y\n",
    "\n",
    "lookback = 96\n",
    "horizon = 10\n",
    "# use all features of last 96 to predict next 10 OT value\n",
    "X, y = make_data(df, lookback, horizon)"
   ]
  },
  {
   "cell_type": "code",
   "execution_count": 47,
   "id": "ae20c423",
   "metadata": {},
   "outputs": [
    {
     "name": "stdout",
     "output_type": "stream",
     "text": [
      "torch.Size([7483, 96, 8]) torch.Size([7483, 10, 1, 1])\n"
     ]
    },
    {
     "name": "stderr",
     "output_type": "stream",
     "text": [
      "/tmp/ipykernel_1632/1264927697.py:1: UserWarning: To copy construct from a tensor, it is recommended to use sourceTensor.clone().detach() or sourceTensor.clone().detach().requires_grad_(True), rather than torch.tensor(sourceTensor).\n",
      "  X, y = torch.tensor(X, dtype=torch.float32), torch.tensor(y, dtype=torch.float32)\n"
     ]
    }
   ],
   "source": [
    "X, y = torch.tensor(X, dtype=torch.float32), torch.tensor(y, dtype=torch.float32)\n",
    "y = y.unsqueeze(2)\n",
    "print(X.shape, y.shape)"
   ]
  },
  {
   "cell_type": "code",
   "execution_count": 48,
   "id": "f423a4f3",
   "metadata": {},
   "outputs": [
    {
     "data": {
      "text/plain": [
       "1"
      ]
     },
     "execution_count": 48,
     "metadata": {},
     "output_type": "execute_result"
    }
   ],
   "source": [
    "src_dim = X.shape[-1]\n",
    "tgt_dim = y.shape[-1]\n",
    "tgt_dim"
   ]
  },
  {
   "cell_type": "code",
   "execution_count": 49,
   "id": "33b25caf",
   "metadata": {},
   "outputs": [
    {
     "data": {
      "text/plain": [
       "torch.Size([5238, 10, 1, 1])"
      ]
     },
     "execution_count": 49,
     "metadata": {},
     "output_type": "execute_result"
    }
   ],
   "source": [
    "train_size = int(len(X)*0.7)\n",
    "#test_size = int(len(X)*0.3)\n",
    "X_train, X_test, y_train, y_test = train_test_split(X, y, train_size=train_size, shuffle=False)\n",
    "y_train.shape"
   ]
  },
  {
   "cell_type": "code",
   "execution_count": 50,
   "id": "9468b23c",
   "metadata": {},
   "outputs": [],
   "source": [
    "class TimeSeriesDataset(Dataset):\n",
    "    def __init__(self, X, y):\n",
    "        self.X = X\n",
    "        self.y = y\n",
    "\n",
    "    def __len__(self):\n",
    "        return len(self.X)\n",
    "\n",
    "    def __getitem__(self, idx):\n",
    "        return self.X[idx], self.y[idx]\n",
    "\n",
    "# 创建 Dataset 实例\n",
    "train_dataset = TimeSeriesDataset(X_train, y_train)\n",
    "test_dataset = TimeSeriesDataset(X_test, y_test)\n",
    "\n",
    "# 创建 DataLoader\n",
    "batch_size = 16\n",
    "train_loader = DataLoader(train_dataset, batch_size=batch_size, shuffle=True)\n",
    "test_loader = DataLoader(test_dataset, batch_size=batch_size, shuffle=False)"
   ]
  },
  {
   "cell_type": "code",
   "execution_count": 51,
   "id": "b3494132",
   "metadata": {},
   "outputs": [
    {
     "data": {
      "text/plain": [
       "torch.Size([16, 96, 8])"
      ]
     },
     "execution_count": 51,
     "metadata": {},
     "output_type": "execute_result"
    }
   ],
   "source": [
    "next(iter(train_loader))[0].shape"
   ]
  },
  {
   "cell_type": "markdown",
   "id": "28c8097f",
   "metadata": {},
   "source": [
    "### Simple Transformer Encoder Model                \n",
    "reference to https://www.wmathor.com/index.php/archives/1455/, Author: wmathor           \n",
    "Module shematic:        \n",
    "计算self-atten score      \n",
    "multi-head attention module     \n",
    "enclayer      \n",
    "enc  (以上依次嵌套，只是此处enc只用了1层enclayer)      \n",
    "FFN     \n",
    "5个mudules"
   ]
  },
  {
   "cell_type": "code",
   "execution_count": 52,
   "id": "7e1e87cc",
   "metadata": {},
   "outputs": [],
   "source": [
    "# hyper-param\n",
    "d_model = 512  # Embedding Size\n",
    "d_ff = 2048 # FeedForward dimension\n",
    "d_k = d_v = 64  # dimension of K(=Q), V\n",
    "n_layers = 1  # number of Encoder of Decoder Layer\n",
    "n_heads = 8  # number of heads in Multi-Head Attention"
   ]
  },
  {
   "cell_type": "code",
   "execution_count": 53,
   "id": "cedee8ae",
   "metadata": {},
   "outputs": [],
   "source": [
    "class ScaledDotProductAttention(nn.Module):\n",
    "    def __init__(self):\n",
    "        super(ScaledDotProductAttention, self).__init__()\n",
    "\n",
    "    def forward(self, Q, K, V):\n",
    "        '''\n",
    "        Q: [batch_size, n_heads, len_q, d_k]\n",
    "        K: [batch_size, n_heads, len_k, d_k]\n",
    "        V: [batch_size, n_heads, len_v(=len_k), d_v]\n",
    "        attn_mask: [batch_size, n_heads, seq_len, seq_len]\n",
    "        '''\n",
    "        scores = torch.matmul(Q, K.transpose(-1, -2)) / np.sqrt(d_k) # scores : [batch_size, n_heads, len_q, len_k]\n",
    "        #scores.masked_fill_(attn_mask, -1e9) # Fills elements of self tensor with value where mask is True.\n",
    "        \n",
    "        attn = nn.Softmax(dim=-1)(scores)\n",
    "        context = torch.matmul(attn, V) # [batch_size, n_heads, len_q, d_v]\n",
    "        return context, attn"
   ]
  },
  {
   "cell_type": "code",
   "execution_count": 66,
   "id": "d8f0aa25",
   "metadata": {},
   "outputs": [],
   "source": [
    "class MultiHeadAttention(nn.Module):\n",
    "    def __init__(self):\n",
    "        super(MultiHeadAttention, self).__init__()\n",
    "        self.W_Q = nn.Linear(d_model, d_k * n_heads, bias=False).cuda()\n",
    "        self.W_K = nn.Linear(d_model, d_k * n_heads, bias=False).cuda()\n",
    "        self.W_V = nn.Linear(d_model, d_v * n_heads, bias=False).cuda()\n",
    "        self.fc = nn.Linear(n_heads * d_v, d_model, bias=False)      #d_k不一定非要等于d_v，所以需要把V变成d_model\n",
    "        \n",
    "    def forward(self, input_Q, input_K, input_V):\n",
    "        '''\n",
    "        input_Q: [batch_size, len_q, d_model]\n",
    "        input_K: [batch_size, len_k, d_model]\n",
    "        input_V: [batch_size, len_v(=len_k), d_model]\n",
    "        attn_mask: [batch_size, seq_len, seq_len]\n",
    "        '''\n",
    "        residual, batch_size = input_Q, input_Q.size(0)\n",
    "        # (B, S, D) -proj-> (B, S, D_new) -split-> (B, S, H, W) -trans-> (B, H, S, W)\n",
    "        Q = self.W_Q(input_Q).view(batch_size, -1, n_heads, d_k).transpose(1,2)  # Q: [batch_size, n_heads, len_q, d_k]\n",
    "        K = self.W_K(input_K).view(batch_size, -1, n_heads, d_k).transpose(1,2)  # K: [batch_size, n_heads, len_k, d_k]\n",
    "        V = self.W_V(input_V).view(batch_size, -1, n_heads, d_v).transpose(1,2)  # V: [batch_size, n_heads, len_v(=len_k), d_v]\n",
    "\n",
    "        #attn_mask = attn_mask.unsqueeze(1).repeat(1, n_heads, 1, 1) # attn_mask : [batch_size, n_heads, seq_len, seq_len]\n",
    "\n",
    "        # context: [batch_size, n_heads, len_q, d_v], attn: [batch_size, n_heads, len_q, len_k]\n",
    "        context, attn = ScaledDotProductAttention()(Q, K, V)\n",
    "        context = context.transpose(1, 2).reshape(batch_size, -1, n_heads * d_v) # context: [batch_size, len_q, n_heads * d_v]\n",
    "        output = self.fc(context) # [batch_size, len_q, d_model]\n",
    "        ###print(output.shape, residual.shape)\n",
    "        return nn.LayerNorm(d_model).cuda()(output + residual), attn"
   ]
  },
  {
   "cell_type": "code",
   "execution_count": 67,
   "id": "911c832f",
   "metadata": {},
   "outputs": [],
   "source": [
    "class FeedForwardNet(nn.Module):\n",
    "    def __init__(self):\n",
    "        super(FeedForwardNet, self).__init__()\n",
    "        self.fc = nn.Sequential(\n",
    "            nn.Linear(d_model, d_ff, bias=False),\n",
    "            nn.ReLU(),\n",
    "            nn.Linear(d_ff, d_model, bias=False)\n",
    "        )\n",
    "    def forward(self, inputs):\n",
    "        '''\n",
    "        inputs: [batch_size, seq_len, d_model]\n",
    "        '''\n",
    "        residual = inputs\n",
    "        output = self.fc(inputs)\n",
    "        return nn.LayerNorm(d_model).cuda()(output + residual) # [batch_size, seq_len, d_model]"
   ]
  },
  {
   "cell_type": "code",
   "execution_count": 68,
   "id": "c0f72db5",
   "metadata": {},
   "outputs": [],
   "source": [
    "class EncoderLayer(nn.Module):\n",
    "    def __init__(self):\n",
    "        super(EncoderLayer, self).__init__()\n",
    "        self.enc_self_attn = MultiHeadAttention()\n",
    "        self.pos_ffn = FeedForwardNet()\n",
    "\n",
    "    def forward(self, enc_inputs):\n",
    "        '''\n",
    "        enc_inputs: [batch_size, src_len, d_model]\n",
    "        enc_self_attn_mask: [batch_size, src_len, src_len]\n",
    "        '''\n",
    "        # enc_outputs: [batch_size, src_len, d_model], attn: [batch_size, n_heads, src_len, src_len]\n",
    "        enc_outputs, attn = self.enc_self_attn(enc_inputs, enc_inputs, enc_inputs) # enc_inputs to same Q,K,V\n",
    "        enc_outputs = self.pos_ffn(enc_outputs) # enc_outputs: [batch_size, src_len, d_model]\n",
    "        return enc_outputs, attn"
   ]
  },
  {
   "cell_type": "code",
   "execution_count": 69,
   "id": "ffcf3831",
   "metadata": {},
   "outputs": [],
   "source": [
    "class Encoder(nn.Module):\n",
    "    def __init__(self):\n",
    "        super(Encoder, self).__init__()\n",
    "        self.src_emb = nn.Linear(src_dim, d_model)    \n",
    "        '''\n",
    "        重点改动这里 不用nn Embedding，用Linear，因为要把([16, 96, 8])转成([16, 96, 512])\n",
    "        用Embedding就变成了([16, 96, 8，512])会出现唯独不匹配报错，\n",
    "        因此X，y类型是float tensor 不能是LongTensor\n",
    "        '''\n",
    "        \n",
    "        #self.pos_emb = PositionalEncoding(d_model)\n",
    "        self.layers = nn.ModuleList([EncoderLayer() for _ in range(n_layers)])\n",
    "        self.projection = nn.Linear(d_model,1).cuda()\n",
    "        self.forecast_horizon = horizon\n",
    "\n",
    "    def forward(self, enc_inputs):\n",
    "        '''\n",
    "        enc_inputs: [batch_size, src_len]\n",
    "        '''\n",
    "        enc_outputs = self.src_emb(enc_inputs) # [batch_size, src_len, d_model]\n",
    "        ###print(\"encoder:\",enc_inputs.shape, enc_outputs.shape)\n",
    "        #enc_outputs = self.pos_emb(enc_outputs.transpose(0, 1)).transpose(0, 1).cuda() # [batch_size, src_len, d_model]\n",
    "        #enc_self_attn_mask = get_attn_pad_mask(enc_inputs, enc_inputs) # [batch_size, src_len, src_len]\n",
    "        enc_self_attns = []           #没用\n",
    "        for layer in self.layers:\n",
    "            # enc_outputs: [batch_size, src_len, d_model], enc_self_attn: [batch_size, n_heads, src_len, src_len]\n",
    "            enc_outputs, enc_self_attn = layer(enc_outputs)\n",
    "            enc_self_attns.append(enc_self_attn)\n",
    "        output = enc_outputs[:, -self.forecast_horizon:, :]\n",
    "        output = self.projection(output)\n",
    "            # output: [batch_size, src_len, 1]\n",
    "        return output, enc_self_attns"
   ]
  },
  {
   "cell_type": "code",
   "execution_count": 70,
   "id": "2f780ee0",
   "metadata": {},
   "outputs": [],
   "source": [
    "model = Encoder().cuda()\n",
    "criterion = nn.MSELoss()\n",
    "optimizer = optim.Adam(model.parameters(), lr=0.001)"
   ]
  },
  {
   "cell_type": "code",
   "execution_count": 79,
   "id": "8d62646a",
   "metadata": {},
   "outputs": [
    {
     "name": "stdout",
     "output_type": "stream",
     "text": [
      "Epoch: 0001 loss = 0.000000\n",
      "Epoch: 0002 loss = 0.000000\n",
      "Epoch: 0003 loss = 0.000000\n",
      "Epoch: 0004 loss = 0.000000\n",
      "Epoch: 0005 loss = 0.000000\n",
      "Epoch: 0006 loss = 0.000003\n",
      "Epoch: 0007 loss = 0.000002\n",
      "Epoch: 0008 loss = 0.000000\n",
      "Epoch: 0009 loss = 0.000001\n",
      "Epoch: 0010 loss = 0.000000\n"
     ]
    }
   ],
   "source": [
    "for epoch in range(10):\n",
    "    for x_loader, y_loader in train_loader:\n",
    "      '''\n",
    "      enc_inputs: [batch_size, src_len]\n",
    "      dec_inputs: [batch_size, tgt_len]\n",
    "      dec_outputs: [batch_size, tgt_len]\n",
    "      '''\n",
    "      x_loader, y_loader = x_loader.cuda(), y_loader.cuda()\n",
    "      # outputs: [batch_size * tgt_len, tgt_vocab_size]\n",
    "      outputs, _ = model(x_loader)\n",
    "      #loss = criterion(outputs, dec_outputs.view(-1))\n",
    "      loss = criterion(outputs, y_loader.view(-1))\n",
    "      #print(outputs.shape,y_loader.shape)\n",
    "      #print('Epoch:', '%04d' % (epoch + 1), 'loss =', '{:.6f}'.format(loss))\n",
    "\n",
    "      optimizer.zero_grad()\n",
    "      loss.backward()\n",
    "      optimizer.step()\n",
    "    print('Epoch:', '%04d' % (epoch + 1), 'loss =', '{:.6f}'.format(loss))"
   ]
  },
  {
   "cell_type": "markdown",
   "id": "e5a1a266",
   "metadata": {},
   "source": [
    "仅仅是跑通没bug,可能会有不少问题，还没有在testset中验证效果，并且这只是最简单的一个实现方法"
   ]
  },
  {
   "cell_type": "code",
   "execution_count": null,
   "id": "4c315ec1-bb12-4727-9a05-e217a1bb474e",
   "metadata": {},
   "outputs": [],
   "source": []
  },
  {
   "cell_type": "code",
   "execution_count": null,
   "id": "4334dfd5-3882-4c6a-9cf2-0dba6ca4f3f7",
   "metadata": {},
   "outputs": [],
   "source": []
  }
 ],
 "metadata": {
  "kernelspec": {
   "display_name": "Python 3 (ipykernel)",
   "language": "python",
   "name": "python3"
  },
  "language_info": {
   "codemirror_mode": {
    "name": "ipython",
    "version": 3
   },
   "file_extension": ".py",
   "mimetype": "text/x-python",
   "name": "python",
   "nbconvert_exporter": "python",
   "pygments_lexer": "ipython3",
   "version": "3.9.12"
  }
 },
 "nbformat": 4,
 "nbformat_minor": 5
}
